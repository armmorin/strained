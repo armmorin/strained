{
 "cells": [
  {
   "cell_type": "markdown",
   "metadata": {},
   "source": [
    "### Add individual entries to the DB"
   ]
  },
  {
   "cell_type": "code",
   "execution_count": 3,
   "metadata": {},
   "outputs": [],
   "source": [
    "from ase.db import connect\n",
    "from ase.db.row import atoms2dict\n",
    "from ase.io import read\n",
    "from pathlib import Path\n",
    "import re\n",
    "from ase.db.sqlite import SQLite3Database\n",
    "from collections import Counter\n",
    "from ase import data\n",
    "from copy import copy\n",
    "import shutil\n",
    "\n",
    "# Read and generate an atoms entry from the NEB run. Write/Update it to the DB.\n",
    "\n",
    "new_db_path = 'structures/hexag_perovs_strained.db'\n",
    "copy_db_path =  'structures/hexag_perovs_strained_copy.db'\n",
    "old_db_path = 'structures/hexag_perovs_wdiscards.db'\n",
    "\n",
    "db_path = shutil.copy(new_db_path, copy_db_path)\n",
    "\n",
    "files_folder = Path('NEB/Ba7Nb4MoO20_p1_e0/').resolve().as_posix()\n",
    "\n",
    "# Search in the directories of the files folder.\n",
    "#trajectories = [traj for traj in files_folder.glob('*.traj')]\n",
    "#last_traj = max(trajectories, key=lambda a: a.stat().st_mtime)\n",
    "#print(last_traj)\n",
    "\n",
    "with connect(old_db_path) as old_db:\n",
    "    sys_row = old_db.get(name='Ba7Nb4MoO20_p1_neb')\n",
    "    sys_atoms = sys_row.toatoms()\n",
    "    sys_kvps = sys_row.key_value_pairs\n",
    "    for mask in ['uniaxial','biaxial']:\n",
    "        sys_kvps['name'] = f\"Ba7Nb4MoO20_p1_{mask}_e0_neb\"\n",
    "        sys_kvps['dir'] = files_folder\n",
    "        sys_kvps['mask'] = mask\n",
    "        with connect(new_db_path) as new_db:\n",
    "            new_db.write(sys_row, key_value_pairs=sys_kvps)\n",
    "#     kvps = [kvp for kvp in sys_row]\n",
    "#     print(kvps)\n",
    "#     keys_values = {}\n",
    "#     for kvp in kvps:\n",
    "#         keys_values[kvp] = sys_row[kvp]\n",
    "        \n"
   ]
  },
  {
   "cell_type": "code",
   "execution_count": 4,
   "metadata": {},
   "outputs": [
    {
     "name": "stdout",
     "output_type": "stream",
     "text": [
      "{'name': 'Ba7Nb4MoO20_p1_biaxial_e0_neb', 'dir': '/home/energy/armoma/phd/hex_perovs/strained/NEB/Ba7Nb4MoO20_p1_e0', 'forward_e': 1.077582239999856, 'delta_e': 0.5970954699998856, 'reverse_e': 0.4804867699999704, 'barrier': 1.077582239999856, 'neg_barrier': 'no', 'mask': 'biaxial'}\n"
     ]
    }
   ],
   "source": [
    "print(sys_kvps)"
   ]
  },
  {
   "cell_type": "markdown",
   "metadata": {},
   "source": [
    "### Change the resources of the queued jobs to the epyc96 partition."
   ]
  },
  {
   "cell_type": "code",
   "execution_count": 1,
   "metadata": {},
   "outputs": [
    {
     "name": "stdout",
     "output_type": "stream",
     "text": [
      "Entry(task=Task(code=PosixPath('/home/energy/armoma/phd/hex_perovs/strained/codes/apply_strain.py'), args={'system_id': 1801, 'name': 'Ba7Nb4MoO20_p1', 'in_plane': -2.0}, resources=Resources(cores=96, processes=1, tmax=180000, nodename='epyc96')), entry_key=1, name='apply_strain.py', mq_id=7524397, state='q', err_txt=None, entry_group_key=1, pq_args=None, data=None)\n",
      "Entry(task=Task(code=PosixPath('/home/energy/armoma/phd/hex_perovs/strained/codes/apply_strain.py'), args={'system_id': 1801, 'name': 'Ba7Nb4MoO20_p1', 'in_plane': -1.0}, resources=Resources(cores=96, processes=1, tmax=180000, nodename='epyc96')), entry_key=4, name='apply_strain.py', mq_id=7524398, state='q', err_txt=None, entry_group_key=2, pq_args=None, data=None)\n",
      "Entry(task=Task(code=PosixPath('/home/energy/armoma/phd/hex_perovs/strained/codes/apply_strain.py'), args={'system_id': 1801, 'name': 'Ba7Nb4MoO20_p1', 'in_plane': 0.0}, resources=Resources(cores=96, processes=1, tmax=180000, nodename='epyc96')), entry_key=7, name='apply_strain.py', mq_id=7524399, state='q', err_txt=None, entry_group_key=3, pq_args=None, data=None)\n",
      "Entry(task=Task(code=PosixPath('/home/energy/armoma/phd/hex_perovs/strained/codes/apply_strain.py'), args={'system_id': 1801, 'name': 'Ba7Nb4MoO20_p1', 'in_plane': 1.0}, resources=Resources(cores=96, processes=1, tmax=180000, nodename='epyc96')), entry_key=10, name='apply_strain.py', mq_id=7524400, state='q', err_txt=None, entry_group_key=4, pq_args=None, data=None)\n",
      "Entry(task=Task(code=PosixPath('/home/energy/armoma/phd/hex_perovs/strained/codes/apply_strain.py'), args={'system_id': 1801, 'name': 'Ba7Nb4MoO20_p1', 'in_plane': 2.0}, resources=Resources(cores=96, processes=1, tmax=180000, nodename='epyc96')), entry_key=13, name='apply_strain.py', mq_id=7524401, state='q', err_txt=None, entry_group_key=5, pq_args=None, data=None)\n"
     ]
    }
   ],
   "source": [
    "from perqueue.queue import PersistentQueue\n",
    "from perqueue.selection import Selection\n",
    "from ase.db import connect\n",
    "from perqueue.task_classes.util_classes import Resources\n",
    "\n",
    "# Get the entries from the active pq database and modify their resources\n",
    "with PersistentQueue() as pq:\n",
    "    entries = pq.get_entries()\n",
    "    \n",
    "s = Selection(states='q')\n",
    "targets = s.filter(entries)\n",
    "\n",
    "# Modify the resources of the entries\n",
    "new_res = Resources.from_string(\"96:1:epyc96:50h\")\n",
    "with PersistentQueue() as pq:\n",
    "    for en in targets:\n",
    "        en._task.resources = new_res\n",
    "        pq.save_resources(en.key, new_res, False)\n",
    "        print(en)\n",
    "    \n",
    "        \n",
    "    # pq_key = en.key\n",
    "    # #print(en)\n",
    "    # with PersistentQueue() as pq:\n",
    "    #     if pq.get_code(pq_key).name != 'neb.py':\n",
    "    #         print(f\"New resources: {new_res1} for pq key: {pq_key}\")\n",
    "    #         pq.save_resources(pq_key, Resources(new_res1), all=False)\n",
    "    #         print(en)\n",
    "        #else:\n",
    "        #    print(f\"New resources: {new_res2} for pq key: {pq_key}\")\n",
    "        #    pq.save_resources(pq_key, Resources(new_res2), all=True)\n",
    "        \n",
    "        #pq.resubmit(en)\n",
    "    \n",
    "    #break"
   ]
  },
  {
   "cell_type": "markdown",
   "metadata": {},
   "source": [
    "### Modify the state of an entry"
   ]
  },
  {
   "cell_type": "code",
   "execution_count": 1,
   "metadata": {},
   "outputs": [],
   "source": [
    "from perqueue.queue import PersistentQueue\n",
    "from perqueue.selection import Selection\n",
    "from ase.db import connect\n",
    "from perqueue.task_classes.util_classes import Resources\n",
    "from perqueue.task_classes.util_classes import EntryState\n",
    "import perqueue.coordinator as coord\n",
    "\n",
    "# Get the entries from the active pq database and modify their resources\n",
    "with PersistentQueue() as pq:\n",
    "    entries = pq.get_entries()\n",
    "    \n",
    "s = Selection(ids=[12,32])\n",
    "targets = s.filter(entries)\n",
    "\n",
    "#new_state = EntryState('q')\n",
    "with PersistentQueue() as pq:\n",
    "    for en in targets:\n",
    "        # Change the state of the entry\n",
    "        coord.set_state(pq._backend, en.key, EntryState.succeeded, None)\n",
    "        \n",
    "        # Populate the data field in the entry\n",
    "        #coord.set_data(pq._backend, en.key, {'db_id': 1})\n",
    "        \n",
    "        # Resubmit the entry\n",
    "        #pq.resubmit(en)\n",
    "        \n",
    "        #break\n",
    "        "
   ]
  },
  {
   "cell_type": "code",
   "execution_count": null,
   "metadata": {},
   "outputs": [],
   "source": []
  }
 ],
 "metadata": {
  "kernelspec": {
   "display_name": "fjorm_env",
   "language": "python",
   "name": "python3"
  },
  "language_info": {
   "codemirror_mode": {
    "name": "ipython",
    "version": 3
   },
   "file_extension": ".py",
   "mimetype": "text/x-python",
   "name": "python",
   "nbconvert_exporter": "python",
   "pygments_lexer": "ipython3",
   "version": "3.11.3"
  }
 },
 "nbformat": 4,
 "nbformat_minor": 2
}
