{
 "cells": [
  {
   "cell_type": "markdown",
   "metadata": {},
   "source": [
    "### Add individual entries to the DB"
   ]
  },
  {
   "cell_type": "markdown",
   "metadata": {},
   "source": [
    "First, add the entries from another DB"
   ]
  },
  {
   "cell_type": "code",
   "execution_count": 1,
   "metadata": {},
   "outputs": [],
   "source": [
    "from ase.db import connect\n",
    "from pathlib import Path\n",
    "\n",
    "# Read and generate an atoms entry from the NEB run. Write/Update it to the DB.\n",
    "\n",
    "new_db_path = 'structures/hexag_perovs_strained.db'\n",
    "old_db_path = 'structures/hexag_perovs_wdiscards.db'\n",
    "\n",
    "#db_path = shutil.copy(new_db_path, copy_db_path)\n",
    "#copy_db_path =  'structures/hexag_perovs_strained_copy.db'\n",
    "\n",
    "files_folder = Path('NEB/Ba7Nb4MoO20_p1_e0/').resolve().as_posix()\n",
    "name = 'Ba7Nb4MoO20_p1_neb'\n",
    "\n",
    "with connect(old_db_path) as old_db:\n",
    "    sys_row = old_db.get(name=name)\n",
    "    sys_atoms = sys_row.toatoms()\n",
    "    sys_kvps = sys_row.key_value_pairs\n",
    "    with connect(new_db_path) as new_db:\n",
    "        new_db.write(sys_atoms,sys_kvps)    \n",
    "\n"
   ]
  },
  {
   "cell_type": "markdown",
   "metadata": {},
   "source": [
    "Then, modify the entry to match as best as possible with respect to the currrent scheme."
   ]
  },
  {
   "cell_type": "code",
   "execution_count": 2,
   "metadata": {},
   "outputs": [],
   "source": [
    "\n",
    "with connect(new_db_path) as db:\n",
    "    sys_row = db.get(name=name)\n",
    "    sys_id = sys_row.id\n",
    "    sys_atoms = sys_row.toatoms()\n",
    "    kvps = [kvp for kvp in sys_row]\n",
    "\n",
    "    keys_values = {}\n",
    "    keys_values['name'] = f\"Ba7Nb4MoO20_p1_e0_neb\"\n",
    "    keys_values['dir'] = files_folder\n",
    "    keys_values['dopant']=int(sys_row.name[-5])\n",
    "    keys_values['in_plane'] = 1.00\n",
    "    db.update(sys_id, **keys_values)\n",
    "\n"
   ]
  },
  {
   "cell_type": "code",
   "execution_count": null,
   "metadata": {},
   "outputs": [],
   "source": [
    "from ase.db import connect\n",
    "from pathlib import Path\n",
    "import shutil\n",
    "\n",
    "# Read and generate an atoms entry from the NEB run. Write/Update it to the DB.\n",
    "\n",
    "new_db_path = 'structures/hexag_perovs_strained.db'\n",
    "old_db_path = 'structures/hexag_perovs_wdiscards.db'\n",
    "copy_db_path = 'structures/hexag_perovs_strained_copy.db'\n",
    "\n",
    "db_path = shutil.copy(new_db_path, copy_db_path)\n",
    "\n"
   ]
  },
  {
   "cell_type": "code",
   "execution_count": 57,
   "metadata": {},
   "outputs": [
    {
     "name": "stdout",
     "output_type": "stream",
     "text": [
      "{'name': 'Ba7Nb4MoO20_p1_biaxial_e0_neb', 'dir': '/home/energy/armoma/phd/hex_perovs/strained/NEB/Ba7Nb4MoO20_p1_e0', 'forward_e': 1.077582239999856, 'delta_e': 0.5970954699998856, 'reverse_e': 0.4804867699999704, 'barrier': 1.077582239999856, 'neg_barrier': 'no', 'mask': 'biaxial', 'dopant': 1}\n"
     ]
    }
   ],
   "source": [
    "print(keys_values)"
   ]
  },
  {
   "cell_type": "code",
   "execution_count": 43,
   "metadata": {},
   "outputs": [],
   "source": [
    "kvps = [kvp for kvp in sys_row]"
   ]
  },
  {
   "cell_type": "code",
   "execution_count": 44,
   "metadata": {},
   "outputs": [
    {
     "data": {
      "text/plain": [
       "{'name': 'Ba7Nb4MoO20_p1_neb',\n",
       " 'dir': '/home/scratch3/armoma/phd/hex_perovs/discarded/NEB/Ba7Nb4MoO20_p1',\n",
       " 'forward_e': 1.077582239999856,\n",
       " 'delta_e': 0.5970954699998856,\n",
       " 'reverse_e': 0.4804867699999704,\n",
       " 'barrier': 1.077582239999856,\n",
       " 'neg_barrier': 'no'}"
      ]
     },
     "execution_count": 44,
     "metadata": {},
     "output_type": "execute_result"
    }
   ],
   "source": [
    "sys_row.key_value_pairs"
   ]
  },
  {
   "cell_type": "code",
   "execution_count": 45,
   "metadata": {},
   "outputs": [
    {
     "name": "stdout",
     "output_type": "stream",
     "text": [
      "['name', 'dir', 'forward_e', 'delta_e', 'reverse_e', 'barrier', 'neg_barrier', 'id', 'unique_id', 'ctime', 'mtime', 'user', 'numbers', 'positions', 'cell', 'pbc', 'initial_magmoms', 'calculator', 'calculator_parameters', 'energy', 'forces']\n"
     ]
    }
   ],
   "source": [
    "print(kvps)"
   ]
  },
  {
   "cell_type": "code",
   "execution_count": 7,
   "metadata": {},
   "outputs": [
    {
     "ename": "ValueError",
     "evalue": "Bad key: unique_id",
     "output_type": "error",
     "traceback": [
      "\u001b[0;31m---------------------------------------------------------------------------\u001b[0m",
      "\u001b[0;31mValueError\u001b[0m                                Traceback (most recent call last)",
      "Cell \u001b[0;32mIn[7], line 36\u001b[0m\n\u001b[1;32m     33\u001b[0m sys_kvps[\u001b[38;5;124m'\u001b[39m\u001b[38;5;124munique_id\u001b[39m\u001b[38;5;124m'\u001b[39m] \u001b[38;5;241m=\u001b[39m \u001b[38;5;28mstr\u001b[39m(uuid\u001b[38;5;241m.\u001b[39muuid4())  \u001b[38;5;66;03m# Ensure the unique_id is different\u001b[39;00m\n\u001b[1;32m     35\u001b[0m \u001b[38;5;28;01mwith\u001b[39;00m connect(copy_db_path) \u001b[38;5;28;01mas\u001b[39;00m new_db:\n\u001b[0;32m---> 36\u001b[0m     \u001b[43mnew_db\u001b[49m\u001b[38;5;241;43m.\u001b[39;49m\u001b[43mwrite\u001b[49m\u001b[43m(\u001b[49m\u001b[43msys_atoms\u001b[49m\u001b[43m,\u001b[49m\u001b[43m \u001b[49m\u001b[43mkey_value_pairs\u001b[49m\u001b[38;5;241;43m=\u001b[39;49m\u001b[43msys_kvps\u001b[49m\u001b[43m)\u001b[49m\n",
      "File \u001b[0;32m/home/modules/software/ASE/3.22.1-foss-2023a/lib/python3.11/site-packages/ase/parallel.py:244\u001b[0m, in \u001b[0;36mparallel_function.<locals>.new_func\u001b[0;34m(*args, **kwargs)\u001b[0m\n\u001b[1;32m    238\u001b[0m \u001b[38;5;129m@functools\u001b[39m\u001b[38;5;241m.\u001b[39mwraps(func)\n\u001b[1;32m    239\u001b[0m \u001b[38;5;28;01mdef\u001b[39;00m \u001b[38;5;21mnew_func\u001b[39m(\u001b[38;5;241m*\u001b[39margs, \u001b[38;5;241m*\u001b[39m\u001b[38;5;241m*\u001b[39mkwargs):\n\u001b[1;32m    240\u001b[0m     \u001b[38;5;28;01mif\u001b[39;00m (world\u001b[38;5;241m.\u001b[39msize \u001b[38;5;241m==\u001b[39m \u001b[38;5;241m1\u001b[39m \u001b[38;5;129;01mor\u001b[39;00m\n\u001b[1;32m    241\u001b[0m         args \u001b[38;5;129;01mand\u001b[39;00m \u001b[38;5;28mgetattr\u001b[39m(args[\u001b[38;5;241m0\u001b[39m], \u001b[38;5;124m'\u001b[39m\u001b[38;5;124mserial\u001b[39m\u001b[38;5;124m'\u001b[39m, \u001b[38;5;28;01mFalse\u001b[39;00m) \u001b[38;5;129;01mor\u001b[39;00m\n\u001b[1;32m    242\u001b[0m         \u001b[38;5;129;01mnot\u001b[39;00m kwargs\u001b[38;5;241m.\u001b[39mpop(\u001b[38;5;124m'\u001b[39m\u001b[38;5;124mparallel\u001b[39m\u001b[38;5;124m'\u001b[39m, \u001b[38;5;28;01mTrue\u001b[39;00m)):\n\u001b[1;32m    243\u001b[0m         \u001b[38;5;66;03m# Disable:\u001b[39;00m\n\u001b[0;32m--> 244\u001b[0m         \u001b[38;5;28;01mreturn\u001b[39;00m \u001b[43mfunc\u001b[49m\u001b[43m(\u001b[49m\u001b[38;5;241;43m*\u001b[39;49m\u001b[43margs\u001b[49m\u001b[43m,\u001b[49m\u001b[43m \u001b[49m\u001b[38;5;241;43m*\u001b[39;49m\u001b[38;5;241;43m*\u001b[39;49m\u001b[43mkwargs\u001b[49m\u001b[43m)\u001b[49m\n\u001b[1;32m    246\u001b[0m     ex \u001b[38;5;241m=\u001b[39m \u001b[38;5;28;01mNone\u001b[39;00m\n\u001b[1;32m    247\u001b[0m     result \u001b[38;5;241m=\u001b[39m \u001b[38;5;28;01mNone\u001b[39;00m\n",
      "File \u001b[0;32m/home/modules/software/ASE/3.22.1-foss-2023a/lib/python3.11/site-packages/ase/db/core.py:203\u001b[0m, in \u001b[0;36mlock.<locals>.new_method\u001b[0;34m(self, *args, **kwargs)\u001b[0m\n\u001b[1;32m    201\u001b[0m \u001b[38;5;28;01melse\u001b[39;00m:\n\u001b[1;32m    202\u001b[0m     \u001b[38;5;28;01mwith\u001b[39;00m \u001b[38;5;28mself\u001b[39m\u001b[38;5;241m.\u001b[39mlock:\n\u001b[0;32m--> 203\u001b[0m         \u001b[38;5;28;01mreturn\u001b[39;00m \u001b[43mmethod\u001b[49m\u001b[43m(\u001b[49m\u001b[38;5;28;43mself\u001b[39;49m\u001b[43m,\u001b[49m\u001b[43m \u001b[49m\u001b[38;5;241;43m*\u001b[39;49m\u001b[43margs\u001b[49m\u001b[43m,\u001b[49m\u001b[43m \u001b[49m\u001b[38;5;241;43m*\u001b[39;49m\u001b[38;5;241;43m*\u001b[39;49m\u001b[43mkwargs\u001b[49m\u001b[43m)\u001b[49m\n",
      "File \u001b[0;32m/home/modules/software/ASE/3.22.1-foss-2023a/lib/python3.11/site-packages/ase/db/core.py:349\u001b[0m, in \u001b[0;36mDatabase.write\u001b[0;34m(self, atoms, key_value_pairs, data, id, **kwargs)\u001b[0m\n\u001b[1;32m    346\u001b[0m kvp \u001b[38;5;241m=\u001b[39m \u001b[38;5;28mdict\u001b[39m(key_value_pairs)  \u001b[38;5;66;03m# modify a copy\u001b[39;00m\n\u001b[1;32m    347\u001b[0m kvp\u001b[38;5;241m.\u001b[39mupdate(kwargs)\n\u001b[0;32m--> 349\u001b[0m \u001b[38;5;28mid\u001b[39m \u001b[38;5;241m=\u001b[39m \u001b[38;5;28;43mself\u001b[39;49m\u001b[38;5;241;43m.\u001b[39;49m\u001b[43m_write\u001b[49m\u001b[43m(\u001b[49m\u001b[43matoms\u001b[49m\u001b[43m,\u001b[49m\u001b[43m \u001b[49m\u001b[43mkvp\u001b[49m\u001b[43m,\u001b[49m\u001b[43m \u001b[49m\u001b[43mdata\u001b[49m\u001b[43m,\u001b[49m\u001b[43m \u001b[49m\u001b[38;5;28;43mid\u001b[39;49m\u001b[43m)\u001b[49m\n\u001b[1;32m    350\u001b[0m \u001b[38;5;28;01mreturn\u001b[39;00m \u001b[38;5;28mid\u001b[39m\n",
      "File \u001b[0;32m/home/modules/software/ASE/3.22.1-foss-2023a/lib/python3.11/site-packages/ase/db/sqlite.py:258\u001b[0m, in \u001b[0;36mSQLite3Database._write\u001b[0;34m(self, atoms, key_value_pairs, data, id)\u001b[0m\n\u001b[1;32m    256\u001b[0m \u001b[38;5;28;01mdef\u001b[39;00m \u001b[38;5;21m_write\u001b[39m(\u001b[38;5;28mself\u001b[39m, atoms, key_value_pairs, data, \u001b[38;5;28mid\u001b[39m):\n\u001b[1;32m    257\u001b[0m     ext_tables \u001b[38;5;241m=\u001b[39m key_value_pairs\u001b[38;5;241m.\u001b[39mpop(\u001b[38;5;124m\"\u001b[39m\u001b[38;5;124mexternal_tables\u001b[39m\u001b[38;5;124m\"\u001b[39m, {})\n\u001b[0;32m--> 258\u001b[0m     \u001b[43mDatabase\u001b[49m\u001b[38;5;241;43m.\u001b[39;49m\u001b[43m_write\u001b[49m\u001b[43m(\u001b[49m\u001b[38;5;28;43mself\u001b[39;49m\u001b[43m,\u001b[49m\u001b[43m \u001b[49m\u001b[43matoms\u001b[49m\u001b[43m,\u001b[49m\u001b[43m \u001b[49m\u001b[43mkey_value_pairs\u001b[49m\u001b[43m,\u001b[49m\u001b[43m \u001b[49m\u001b[43mdata\u001b[49m\u001b[43m)\u001b[49m\n\u001b[1;32m    260\u001b[0m     mtime \u001b[38;5;241m=\u001b[39m now()\n\u001b[1;32m    262\u001b[0m     encode \u001b[38;5;241m=\u001b[39m \u001b[38;5;28mself\u001b[39m\u001b[38;5;241m.\u001b[39mencode\n",
      "File \u001b[0;32m/home/modules/software/ASE/3.22.1-foss-2023a/lib/python3.11/site-packages/ase/db/core.py:353\u001b[0m, in \u001b[0;36mDatabase._write\u001b[0;34m(self, atoms, key_value_pairs, data, id)\u001b[0m\n\u001b[1;32m    352\u001b[0m \u001b[38;5;28;01mdef\u001b[39;00m \u001b[38;5;21m_write\u001b[39m(\u001b[38;5;28mself\u001b[39m, atoms, key_value_pairs, data, \u001b[38;5;28mid\u001b[39m\u001b[38;5;241m=\u001b[39m\u001b[38;5;28;01mNone\u001b[39;00m):\n\u001b[0;32m--> 353\u001b[0m     \u001b[43mcheck\u001b[49m\u001b[43m(\u001b[49m\u001b[43mkey_value_pairs\u001b[49m\u001b[43m)\u001b[49m\n\u001b[1;32m    354\u001b[0m     \u001b[38;5;28;01mreturn\u001b[39;00m \u001b[38;5;241m1\u001b[39m\n",
      "File \u001b[0;32m/home/modules/software/ASE/3.22.1-foss-2023a/lib/python3.11/site-packages/ase/db/core.py:99\u001b[0m, in \u001b[0;36mcheck\u001b[0;34m(key_value_pairs)\u001b[0m\n\u001b[1;32m     96\u001b[0m     \u001b[38;5;28;01mcontinue\u001b[39;00m\n\u001b[1;32m     98\u001b[0m \u001b[38;5;28;01mif\u001b[39;00m \u001b[38;5;129;01mnot\u001b[39;00m word\u001b[38;5;241m.\u001b[39mmatch(key) \u001b[38;5;129;01mor\u001b[39;00m key \u001b[38;5;129;01min\u001b[39;00m reserved_keys:\n\u001b[0;32m---> 99\u001b[0m     \u001b[38;5;28;01mraise\u001b[39;00m \u001b[38;5;167;01mValueError\u001b[39;00m(\u001b[38;5;124m'\u001b[39m\u001b[38;5;124mBad key: \u001b[39m\u001b[38;5;132;01m{}\u001b[39;00m\u001b[38;5;124m'\u001b[39m\u001b[38;5;241m.\u001b[39mformat(key))\n\u001b[1;32m    100\u001b[0m \u001b[38;5;28;01mtry\u001b[39;00m:\n\u001b[1;32m    101\u001b[0m     Formula(key, strict\u001b[38;5;241m=\u001b[39m\u001b[38;5;28;01mTrue\u001b[39;00m)\n",
      "\u001b[0;31mValueError\u001b[0m: Bad key: unique_id"
     ]
    }
   ],
   "source": [
    "from ase.db import connect\n",
    "from ase.db.row import atoms2dict\n",
    "from ase.io import read\n",
    "from pathlib import Path\n",
    "import re\n",
    "from ase.db.sqlite import SQLite3Database\n",
    "from collections import Counter\n",
    "from ase import data\n",
    "from copy import copy\n",
    "import shutil\n",
    "import uuid  # For generating unique ids\n",
    "\n",
    "# Read and generate an atoms entry from the NEB run. Write/Update it to the DB.\n",
    "\n",
    "new_db_path = 'structures/hexag_perovs_strained.db'\n",
    "copy_db_path =  'structures/hexag_perovs_strained_copy.db'\n",
    "old_db_path = 'structures/hexag_perovs_wdiscards.db'\n",
    "\n",
    "db_path = shutil.copy(new_db_path, copy_db_path)\n",
    "\n",
    "files_folder = Path('NEB/Ba7Nb4MoO20_p1_e0/').resolve().as_posix()\n",
    "\n",
    "with connect(old_db_path) as old_db:\n",
    "    sys_row = old_db.get(name='Ba7Nb4MoO20_p1_neb')\n",
    "    sys_atoms = sys_row.toatoms()\n",
    "    sys_kvps = sys_row.key_value_pairs\n",
    "    for mask in ['uniaxial', 'biaxial']:\n",
    "        sys_kvps['name'] = f\"Ba7Nb4MoO20_p1_{mask}_e0_neb\"\n",
    "        sys_kvps['dir'] = files_folder\n",
    "        sys_kvps['mask'] = mask\n",
    "        \n",
    "        # Generate a new unique ID\n",
    "        sys_kvps['unique_id'] = str(uuid.uuid4())  # Ensure the unique_id is different\n",
    "\n",
    "        with connect(copy_db_path) as new_db:\n",
    "            new_db.write(sys_atoms, key_value_pairs=sys_kvps)"
   ]
  },
  {
   "cell_type": "code",
   "execution_count": 6,
   "metadata": {},
   "outputs": [
    {
     "name": "stdout",
     "output_type": "stream",
     "text": [
      "{'name': 'Ba7Nb4MoO20_p1_biaxial_e0_neb', 'dir': '/home/energy/armoma/phd/hex_perovs/strained/NEB/Ba7Nb4MoO20_p1_e0', 'forward_e': 1.077582239999856, 'delta_e': 0.5970954699998856, 'reverse_e': 0.4804867699999704, 'barrier': 1.077582239999856, 'neg_barrier': 'no', 'mask': 'biaxial'}\n"
     ]
    }
   ],
   "source": [
    "print(sys_kvps)"
   ]
  },
  {
   "cell_type": "markdown",
   "metadata": {},
   "source": [
    "### Change the resources of the queued jobs to the epyc96 partition."
   ]
  },
  {
   "cell_type": "code",
   "execution_count": 1,
   "metadata": {},
   "outputs": [
    {
     "name": "stdout",
     "output_type": "stream",
     "text": [
      "Entry(task=Task(code=PosixPath('/home/energy/armoma/phd/hex_perovs/strained/codes/apply_strain.py'), args={'system_id': 1801, 'name': 'Ba7Nb4MoO20_p1', 'in_plane': -2.0}, resources=Resources(cores=96, processes=1, tmax=180000, nodename='epyc96')), entry_key=1, name='apply_strain.py', mq_id=7524397, state='q', err_txt=None, entry_group_key=1, pq_args=None, data=None)\n",
      "Entry(task=Task(code=PosixPath('/home/energy/armoma/phd/hex_perovs/strained/codes/apply_strain.py'), args={'system_id': 1801, 'name': 'Ba7Nb4MoO20_p1', 'in_plane': -1.0}, resources=Resources(cores=96, processes=1, tmax=180000, nodename='epyc96')), entry_key=4, name='apply_strain.py', mq_id=7524398, state='q', err_txt=None, entry_group_key=2, pq_args=None, data=None)\n",
      "Entry(task=Task(code=PosixPath('/home/energy/armoma/phd/hex_perovs/strained/codes/apply_strain.py'), args={'system_id': 1801, 'name': 'Ba7Nb4MoO20_p1', 'in_plane': 0.0}, resources=Resources(cores=96, processes=1, tmax=180000, nodename='epyc96')), entry_key=7, name='apply_strain.py', mq_id=7524399, state='q', err_txt=None, entry_group_key=3, pq_args=None, data=None)\n",
      "Entry(task=Task(code=PosixPath('/home/energy/armoma/phd/hex_perovs/strained/codes/apply_strain.py'), args={'system_id': 1801, 'name': 'Ba7Nb4MoO20_p1', 'in_plane': 1.0}, resources=Resources(cores=96, processes=1, tmax=180000, nodename='epyc96')), entry_key=10, name='apply_strain.py', mq_id=7524400, state='q', err_txt=None, entry_group_key=4, pq_args=None, data=None)\n",
      "Entry(task=Task(code=PosixPath('/home/energy/armoma/phd/hex_perovs/strained/codes/apply_strain.py'), args={'system_id': 1801, 'name': 'Ba7Nb4MoO20_p1', 'in_plane': 2.0}, resources=Resources(cores=96, processes=1, tmax=180000, nodename='epyc96')), entry_key=13, name='apply_strain.py', mq_id=7524401, state='q', err_txt=None, entry_group_key=5, pq_args=None, data=None)\n"
     ]
    }
   ],
   "source": [
    "from perqueue.queue import PersistentQueue\n",
    "from perqueue.selection import Selection\n",
    "from ase.db import connect\n",
    "from perqueue.task_classes.util_classes import Resources\n",
    "\n",
    "# Get the entries from the active pq database and modify their resources\n",
    "with PersistentQueue() as pq:\n",
    "    entries = pq.get_entries()\n",
    "    \n",
    "s = Selection(states='q')\n",
    "targets = s.filter(entries)\n",
    "\n",
    "# Modify the resources of the entries\n",
    "new_res = Resources.from_string(\"96:1:epyc96:50h\")\n",
    "with PersistentQueue() as pq:\n",
    "    for en in targets:\n",
    "        en._task.resources = new_res\n",
    "        pq.save_resources(en.key, new_res, False)\n",
    "        print(en)\n",
    "    \n",
    "        \n",
    "    # pq_key = en.key\n",
    "    # #print(en)\n",
    "    # with PersistentQueue() as pq:\n",
    "    #     if pq.get_code(pq_key).name != 'neb.py':\n",
    "    #         print(f\"New resources: {new_res1} for pq key: {pq_key}\")\n",
    "    #         pq.save_resources(pq_key, Resources(new_res1), all=False)\n",
    "    #         print(en)\n",
    "        #else:\n",
    "        #    print(f\"New resources: {new_res2} for pq key: {pq_key}\")\n",
    "        #    pq.save_resources(pq_key, Resources(new_res2), all=True)\n",
    "        \n",
    "        #pq.resubmit(en)\n",
    "    \n",
    "    #break"
   ]
  },
  {
   "cell_type": "markdown",
   "metadata": {},
   "source": [
    "### Modify the state of an entry"
   ]
  },
  {
   "cell_type": "code",
   "execution_count": 1,
   "metadata": {},
   "outputs": [],
   "source": [
    "from perqueue.queue import PersistentQueue\n",
    "from perqueue.selection import Selection\n",
    "from ase.db import connect\n",
    "from perqueue.task_classes.util_classes import Resources\n",
    "from perqueue.task_classes.util_classes import EntryState\n",
    "import perqueue.coordinator as coord\n",
    "\n",
    "# Get the entries from the active pq database and modify their resources\n",
    "with PersistentQueue() as pq:\n",
    "    entries = pq.get_entries()\n",
    "    \n",
    "s = Selection(ids=[12,32])\n",
    "targets = s.filter(entries)\n",
    "\n",
    "#new_state = EntryState('q')\n",
    "with PersistentQueue() as pq:\n",
    "    for en in targets:\n",
    "        # Change the state of the entry\n",
    "        coord.set_state(pq._backend, en.key, EntryState.succeeded, None)\n",
    "        \n",
    "        # Populate the data field in the entry\n",
    "        #coord.set_data(pq._backend, en.key, {'db_id': 1})\n",
    "        \n",
    "        # Resubmit the entry\n",
    "        #pq.resubmit(en)\n",
    "        \n",
    "        #break\n",
    "        "
   ]
  },
  {
   "cell_type": "code",
   "execution_count": null,
   "metadata": {},
   "outputs": [],
   "source": []
  }
 ],
 "metadata": {
  "kernelspec": {
   "display_name": "fjorm_env",
   "language": "python",
   "name": "python3"
  },
  "language_info": {
   "codemirror_mode": {
    "name": "ipython",
    "version": 3
   },
   "file_extension": ".py",
   "mimetype": "text/x-python",
   "name": "python",
   "nbconvert_exporter": "python",
   "pygments_lexer": "ipython3",
   "version": "3.11.3"
  }
 },
 "nbformat": 4,
 "nbformat_minor": 2
}
