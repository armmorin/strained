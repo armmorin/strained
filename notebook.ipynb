{
 "cells": [
  {
   "cell_type": "markdown",
   "metadata": {},
   "source": [
    "### Add individual entries to the DB"
   ]
  },
  {
   "cell_type": "markdown",
   "metadata": {},
   "source": [
    "First, add the entries from another DB"
   ]
  },
  {
   "cell_type": "code",
   "execution_count": 1,
   "metadata": {},
   "outputs": [],
   "source": [
    "from ase.db import connect\n",
    "from pathlib import Path\n",
    "\n",
    "# Read and generate an atoms entry from the NEB run. Write/Update it to the DB.\n",
    "\n",
    "new_db_path = 'structures/hexag_perovs_strained.db'\n",
    "old_db_path = 'structures/hexag_perovs_wdiscards.db'\n",
    "\n",
    "#db_path = shutil.copy(new_db_path, copy_db_path)\n",
    "#copy_db_path =  'structures/hexag_perovs_strained_copy.db'\n",
    "\n",
    "files_folder = Path('NEB/Ba7Nb4MoO20_p1_e0/').resolve().as_posix()\n",
    "name = 'Ba7Nb4MoO20_p1_neb'\n",
    "\n",
    "with connect(old_db_path) as old_db:\n",
    "    sys_row = old_db.get(name=name)\n",
    "    sys_atoms = sys_row.toatoms()\n",
    "    sys_kvps = sys_row.key_value_pairs\n",
    "    with connect(new_db_path) as new_db:\n",
    "        new_db.write(sys_atoms,sys_kvps)    \n",
    "\n"
   ]
  },
  {
   "cell_type": "markdown",
   "metadata": {},
   "source": [
    "Then, modify the entry to match as best as possible with respect to the currrent scheme."
   ]
  },
  {
   "cell_type": "code",
   "execution_count": 2,
   "metadata": {},
   "outputs": [],
   "source": [
    "\n",
    "with connect(new_db_path) as db:\n",
    "    sys_row = db.get(name=name)\n",
    "    sys_id = sys_row.id\n",
    "    sys_atoms = sys_row.toatoms()\n",
    "    kvps = [kvp for kvp in sys_row]\n",
    "\n",
    "    keys_values = {}\n",
    "    keys_values['name'] = \"Ba7Nb4MoO20_p1_e0_neb\"\n",
    "    keys_values['dir'] = files_folder\n",
    "    keys_values['dopant']=int(sys_row.name[-5])\n",
    "    keys_values['in_plane'] = 1.00\n",
    "    db.update(sys_id, **keys_values)\n",
    "\n"
   ]
  },
  {
   "cell_type": "markdown",
   "metadata": {},
   "source": [
    "Change the values of several entries at a time."
   ]
  },
  {
   "cell_type": "markdown",
   "metadata": {},
   "source": [
    "#### NEBs"
   ]
  },
  {
   "cell_type": "code",
   "execution_count": 25,
   "metadata": {},
   "outputs": [
    {
     "name": "stdout",
     "output_type": "stream",
     "text": [
      "s1\n",
      "28 {'delta_e': 0.6102335000000494, 'dopant': 1, 'in_plane': 1.015}\n",
      "s3\n",
      "31 {'delta_e': 0.6151655599999231, 'dopant': 1, 'in_plane': 1.03}\n",
      "s1\n",
      "32 {'delta_e': 0.6243580099999235, 'dopant': 1, 'in_plane': 1.015}\n",
      "e0\n",
      "33 {'delta_e': 0.5970954699998856, 'dopant': 1, 'in_plane': 1.0}\n"
     ]
    }
   ],
   "source": [
    "from ase.db import connect\n",
    "from pathlib import Path\n",
    "import shutil\n",
    "\n",
    "# Read and generate an atoms entry from the NEB run. Write/Update it to the DB.\n",
    "\n",
    "db_path = 'structures/hexag_perovs_strained.db'\n",
    "#copy_path = 'structures/hexag_perovs_strained_copy.db'\n",
    "\n",
    "#copy_path = shutil.copy(db_path, copy_path)\n",
    "\n",
    "#with connect(copy_path) as db:\n",
    "with connect(db_path) as db:\n",
    "    get_rows = db.select('barrier')\n",
    "    kvps = {}\n",
    "    for row in get_rows:\n",
    "        row_id = row.id\n",
    "        kvps['delta_e'] = abs(row.delta_e)\n",
    "        name_parts = row.name.split('_')\n",
    "        dist_name = name_parts[-2]\n",
    "        print(dist_name)\n",
    "        kvps['dopant'] = int(name_parts[1][-1])\n",
    "        if dist_name=='s1':\n",
    "            kvps['in_plane'] = 1.015\n",
    "        elif dist_name=='s3':\n",
    "            kvps['in_plane']=1.030\n",
    "        elif dist_name=='c1':\n",
    "            kvps['in_plane']=0.985\n",
    "        elif dist_name=='c3':\n",
    "            kvps['in_plane']=0.970\n",
    "        elif dist_name=='e0':\n",
    "            kvps['in_plane']=1.000\n",
    "        \n",
    "        db.update(row_id, **kvps)\n",
    "        print(row_id,kvps)\n",
    "        #break\n"
   ]
  },
  {
   "cell_type": "markdown",
   "metadata": {},
   "source": [
    "#### Others"
   ]
  },
  {
   "cell_type": "code",
   "execution_count": 2,
   "metadata": {},
   "outputs": [],
   "source": [
    "from ase.db import connect\n",
    "from pathlib import Path\n",
    "import shutil\n",
    "\n",
    "# Read and generate an atoms entry from the NEB run. Write/Update it to the DB.\n",
    "\n",
    "db_path = 'structures/hexag_perovs_strained.db'\n",
    "#copy_path = 'structures/hexag_perovs_strained_copy.db'\n",
    "\n",
    "#copy_path = shutil.copy(db_path, copy_path)\n",
    "\n",
    "#with connect(copy_path) as db:\n",
    "with connect(db_path) as db:\n",
    "    get_rows = db.select(selection='in_plane=1.010')\n",
    "    kvps = {}\n",
    "    for row in get_rows:\n",
    "        row_id = row.id\n",
    "        row_in_plane = row.in_plane\n",
    "        if row_in_plane==1.010:\n",
    "            in_plane = 1.015\n",
    "        elif row_in_plane==0.990:\n",
    "            in_plane = 0.985\n",
    "\n",
    "        print(row.id, row_in_plane)\n",
    "        #db.update(row_id, in_plane=in_plane)\n",
    "        #break\n",
    "        "
   ]
  },
  {
   "cell_type": "code",
   "execution_count": 36,
   "metadata": {},
   "outputs": [
    {
     "name": "stdout",
     "output_type": "stream",
     "text": [
      "[]\n"
     ]
    }
   ],
   "source": [
    "print([row for row in get_rows])"
   ]
  },
  {
   "cell_type": "markdown",
   "metadata": {},
   "source": [
    "### Change the resources of the queued jobs to the epyc96 partition."
   ]
  },
  {
   "cell_type": "code",
   "execution_count": 1,
   "metadata": {},
   "outputs": [
    {
     "name": "stdout",
     "output_type": "stream",
     "text": [
      "Entry(task=Task(code=PosixPath('/home/energy/armoma/phd/hex_perovs/strained/codes/apply_strain.py'), args={'system_id': 1801, 'name': 'Ba7Nb4MoO20_p1', 'in_plane': -2.0}, resources=Resources(cores=96, processes=1, tmax=180000, nodename='epyc96')), entry_key=1, name='apply_strain.py', mq_id=7524397, state='q', err_txt=None, entry_group_key=1, pq_args=None, data=None)\n",
      "Entry(task=Task(code=PosixPath('/home/energy/armoma/phd/hex_perovs/strained/codes/apply_strain.py'), args={'system_id': 1801, 'name': 'Ba7Nb4MoO20_p1', 'in_plane': -1.0}, resources=Resources(cores=96, processes=1, tmax=180000, nodename='epyc96')), entry_key=4, name='apply_strain.py', mq_id=7524398, state='q', err_txt=None, entry_group_key=2, pq_args=None, data=None)\n",
      "Entry(task=Task(code=PosixPath('/home/energy/armoma/phd/hex_perovs/strained/codes/apply_strain.py'), args={'system_id': 1801, 'name': 'Ba7Nb4MoO20_p1', 'in_plane': 0.0}, resources=Resources(cores=96, processes=1, tmax=180000, nodename='epyc96')), entry_key=7, name='apply_strain.py', mq_id=7524399, state='q', err_txt=None, entry_group_key=3, pq_args=None, data=None)\n",
      "Entry(task=Task(code=PosixPath('/home/energy/armoma/phd/hex_perovs/strained/codes/apply_strain.py'), args={'system_id': 1801, 'name': 'Ba7Nb4MoO20_p1', 'in_plane': 1.0}, resources=Resources(cores=96, processes=1, tmax=180000, nodename='epyc96')), entry_key=10, name='apply_strain.py', mq_id=7524400, state='q', err_txt=None, entry_group_key=4, pq_args=None, data=None)\n",
      "Entry(task=Task(code=PosixPath('/home/energy/armoma/phd/hex_perovs/strained/codes/apply_strain.py'), args={'system_id': 1801, 'name': 'Ba7Nb4MoO20_p1', 'in_plane': 2.0}, resources=Resources(cores=96, processes=1, tmax=180000, nodename='epyc96')), entry_key=13, name='apply_strain.py', mq_id=7524401, state='q', err_txt=None, entry_group_key=5, pq_args=None, data=None)\n"
     ]
    }
   ],
   "source": [
    "from perqueue.queue import PersistentQueue\n",
    "from perqueue.selection import Selection\n",
    "from ase.db import connect\n",
    "from perqueue.task_classes.util_classes import Resources\n",
    "\n",
    "# Get the entries from the active pq database and modify their resources\n",
    "with PersistentQueue() as pq:\n",
    "    entries = pq.get_entries()\n",
    "    \n",
    "s = Selection(states='q')\n",
    "targets = s.filter(entries)\n",
    "\n",
    "# Modify the resources of the entries\n",
    "new_res = Resources.from_string(\"96:1:epyc96:50h\")\n",
    "with PersistentQueue() as pq:\n",
    "    for en in targets:\n",
    "        en._task.resources = new_res\n",
    "        pq.save_resources(en.key, new_res, False)\n",
    "        print(en)\n",
    "    \n",
    "        \n",
    "    # pq_key = en.key\n",
    "    # #print(en)\n",
    "    # with PersistentQueue() as pq:\n",
    "    #     if pq.get_code(pq_key).name != 'neb.py':\n",
    "    #         print(f\"New resources: {new_res1} for pq key: {pq_key}\")\n",
    "    #         pq.save_resources(pq_key, Resources(new_res1), all=False)\n",
    "    #         print(en)\n",
    "        #else:\n",
    "        #    print(f\"New resources: {new_res2} for pq key: {pq_key}\")\n",
    "        #    pq.save_resources(pq_key, Resources(new_res2), all=True)\n",
    "        \n",
    "        #pq.resubmit(en)\n",
    "    \n",
    "    #break"
   ]
  },
  {
   "cell_type": "markdown",
   "metadata": {},
   "source": [
    "### Modify the state of an entry"
   ]
  },
  {
   "cell_type": "code",
   "execution_count": 1,
   "metadata": {},
   "outputs": [],
   "source": [
    "from perqueue.queue import PersistentQueue\n",
    "from perqueue.selection import Selection\n",
    "from ase.db import connect\n",
    "from perqueue.task_classes.util_classes import Resources\n",
    "from perqueue.task_classes.util_classes import EntryState\n",
    "import perqueue.coordinator as coord\n",
    "\n",
    "# Get the entries from the active pq database and modify their resources\n",
    "with PersistentQueue() as pq:\n",
    "    entries = pq.get_entries()\n",
    "    \n",
    "s = Selection(ids=[41,46,51,56])\n",
    "targets = s.filter(entries)\n",
    "\n",
    "#new_state = EntryState('q')\n",
    "with PersistentQueue() as pq:\n",
    "    for en in targets:\n",
    "        # Change the state of the entry\n",
    "        coord.set_state(pq._backend, en.key, EntryState.succeeded, None)\n",
    "        \n",
    "        # Populate the data field in the entry\n",
    "        #coord.set_data(pq._backend, en.key, {'db_id': 1})\n",
    "        \n",
    "        # Resubmit the entry\n",
    "        #pq.resubmit(en)\n",
    "        \n",
    "        #break\n",
    "        "
   ]
  },
  {
   "cell_type": "markdown",
   "metadata": {},
   "source": [
    "#### Change the args of an entry."
   ]
  },
  {
   "cell_type": "code",
   "execution_count": 1,
   "metadata": {},
   "outputs": [],
   "source": [
    "from perqueue.queue import PersistentQueue\n",
    "from perqueue.selection import Selection\n",
    "from ase.db import connect\n",
    "from perqueue.task_classes.util_classes import Resources\n",
    "from perqueue.task_classes.util_classes import EntryState\n",
    "import perqueue.coordinator as coord\n",
    "\n",
    "# Get the succesful NEB jobs with PQ\n",
    "with PersistentQueue() as pq:\n",
    "    entries = pq.get_entries()\n",
    "\n",
    "s = Selection(names='neb.py')\n",
    "targets = s.filter(entries=entries)\n",
    "\n",
    "args = {} # {'climb': True}\n",
    "with PersistentQueue() as pq:\n",
    "    for en in targets:\n",
    "        key = en.key\n",
    "        pq.save_args(key, args, False)"
   ]
  },
  {
   "cell_type": "code",
   "execution_count": 11,
   "metadata": {},
   "outputs": [],
   "source": [
    "resources = Resources.from_string('48:1:xeon24el8_test:10m')\n",
    "with PersistentQueue() as pq:\n",
    "    entry= pq.get_entry(key=12)\n",
    "    pq.save_resources(entry.key, resources, False)"
   ]
  },
  {
   "cell_type": "code",
   "execution_count": null,
   "metadata": {},
   "outputs": [],
   "source": []
  }
 ],
 "metadata": {
  "kernelspec": {
   "display_name": "fjorm_env",
   "language": "python",
   "name": "python3"
  },
  "language_info": {
   "codemirror_mode": {
    "name": "ipython",
    "version": 3
   },
   "file_extension": ".py",
   "mimetype": "text/x-python",
   "name": "python",
   "nbconvert_exporter": "python",
   "pygments_lexer": "ipython3",
   "version": "3.11.3"
  }
 },
 "nbformat": 4,
 "nbformat_minor": 2
}
