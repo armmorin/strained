{
 "cells": [
  {
   "cell_type": "markdown",
   "metadata": {},
   "source": [
    "### Change the resources of the queued jobs to the epyc96 partition."
   ]
  },
  {
   "cell_type": "code",
   "execution_count": 3,
   "metadata": {},
   "outputs": [
    {
     "name": "stdout",
     "output_type": "stream",
     "text": [
      "Entry(task=Task(code=PosixPath('/home/energy/armoma/phd/hex_perovs/strained/codes/apply_strain.py'), args={'system_id': 1801, 'name': 'Ba7Nb4MoO20_p1', 'in_plane': -2.0}, resources=Resources(cores=168, processes=1, tmax=180000, nodename='xeon24el8')), entry_key=1, name='apply_strain.py', mq_id=7523651, state='q', err_txt=None, entry_group_key=1, pq_args=None, data=None)\n",
      "Entry(task=Task(code=PosixPath('/home/energy/armoma/phd/hex_perovs/strained/codes/apply_strain.py'), args={'system_id': 1801, 'name': 'Ba7Nb4MoO20_p1', 'in_plane': -1.0}, resources=Resources(cores=168, processes=1, tmax=180000, nodename='xeon24el8')), entry_key=4, name='apply_strain.py', mq_id=7523652, state='q', err_txt=None, entry_group_key=2, pq_args=None, data=None)\n",
      "Entry(task=Task(code=PosixPath('/home/energy/armoma/phd/hex_perovs/strained/codes/apply_strain.py'), args={'system_id': 1801, 'name': 'Ba7Nb4MoO20_p1', 'in_plane': 0.0}, resources=Resources(cores=168, processes=1, tmax=180000, nodename='xeon24el8')), entry_key=7, name='apply_strain.py', mq_id=7523653, state='q', err_txt=None, entry_group_key=3, pq_args=None, data=None)\n",
      "Entry(task=Task(code=PosixPath('/home/energy/armoma/phd/hex_perovs/strained/codes/apply_strain.py'), args={'system_id': 1801, 'name': 'Ba7Nb4MoO20_p1', 'in_plane': 1.0}, resources=Resources(cores=168, processes=1, tmax=180000, nodename='xeon24el8')), entry_key=10, name='apply_strain.py', mq_id=7523654, state='q', err_txt=None, entry_group_key=4, pq_args=None, data=None)\n",
      "Entry(task=Task(code=PosixPath('/home/energy/armoma/phd/hex_perovs/strained/codes/apply_strain.py'), args={'system_id': 1801, 'name': 'Ba7Nb4MoO20_p1', 'in_plane': 2.0}, resources=Resources(cores=168, processes=1, tmax=180000, nodename='xeon24el8')), entry_key=13, name='apply_strain.py', mq_id=7523655, state='q', err_txt=None, entry_group_key=5, pq_args=None, data=None)\n"
     ]
    }
   ],
   "source": [
    "from perqueue.queue import PersistentQueue\n",
    "from perqueue.selection import Selection\n",
    "from ase.db import connect\n",
    "from perqueue.task_classes.util_classes import Resources\n",
    "\n",
    "# Get the entries from the active pq database and modify their resources\n",
    "with PersistentQueue() as pq:\n",
    "    entries = pq.get_entries()\n",
    "    \n",
    "s = Selection(states='q')\n",
    "targets = s.filter(entries)\n",
    "\n",
    "# Modify the resources of the entries\n",
    "new_res = Resources.from_string(\"168:1:xeon24el8:50h\")\n",
    "with PersistentQueue() as pq:\n",
    "    for en in targets:\n",
    "        en._task.resources = new_res\n",
    "        pq.save_resources(en.key, new_res, False)\n",
    "        print(en)\n",
    "    \n",
    "        \n",
    "    # pq_key = en.key\n",
    "    # #print(en)\n",
    "    # with PersistentQueue() as pq:\n",
    "    #     if pq.get_code(pq_key).name != 'neb.py':\n",
    "    #         print(f\"New resources: {new_res1} for pq key: {pq_key}\")\n",
    "    #         pq.save_resources(pq_key, Resources(new_res1), all=False)\n",
    "    #         print(en)\n",
    "        #else:\n",
    "        #    print(f\"New resources: {new_res2} for pq key: {pq_key}\")\n",
    "        #    pq.save_resources(pq_key, Resources(new_res2), all=True)\n",
    "        \n",
    "        #pq.resubmit(en)\n",
    "    \n",
    "    #break"
   ]
  },
  {
   "cell_type": "code",
   "execution_count": null,
   "metadata": {},
   "outputs": [],
   "source": []
  }
 ],
 "metadata": {
  "kernelspec": {
   "display_name": "fjorm_env",
   "language": "python",
   "name": "python3"
  },
  "language_info": {
   "codemirror_mode": {
    "name": "ipython",
    "version": 3
   },
   "file_extension": ".py",
   "mimetype": "text/x-python",
   "name": "python",
   "nbconvert_exporter": "python",
   "pygments_lexer": "ipython3",
   "version": "3.11.3"
  }
 },
 "nbformat": 4,
 "nbformat_minor": 2
}
