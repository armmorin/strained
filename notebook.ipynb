{
 "cells": [
  {
   "cell_type": "markdown",
   "metadata": {},
   "source": [
    "### Change the resources of the queued jobs to the epyc96 partition."
   ]
  },
  {
   "cell_type": "code",
   "execution_count": 16,
   "metadata": {},
   "outputs": [
    {
     "name": "stdout",
     "output_type": "stream",
     "text": [
      "New resources: 96:1:epyc96:50h for pq key: 31\n",
      "Entry(task=Task(code=PosixPath('/home/energy/armoma/phd/hex_perovs/strained/codes/apply_strain.py'), args={'system_id': 1627, 'in_plane': -2.0, 'vasp': {'symprec': 0.001, 'algo': 'VeryFast'}}, resources=Resources(cores=96, processes=1, nodename='50h')), entry_key=31, name='apply_strain.py', mq_id=7383343, state='q', err_txt=None, entry_group_key=29, pq_args=None, data=None)\n",
      "New resources: 96:1:epyc96:50h for pq key: 35\n",
      "Entry(task=Task(code=PosixPath('/home/energy/armoma/phd/hex_perovs/strained/codes/create_vacancies.py'), args={'vasp': {'symprec': 0.001, 'algo': 'VeryFast'}}, resources=Resources(cores=96, processes=1, nodename='50h')), entry_key=35, name='create_vacancies.py', mq_id=7383344, state='q', err_txt=None, entry_group_key=30, pq_args=None, data=None)\n",
      "New resources: 96:1:epyc96:50h for pq key: 38\n",
      "Entry(task=Task(code=PosixPath('/home/energy/armoma/phd/hex_perovs/strained/codes/create_vacancies.py'), args={'vasp': {'symprec': 0.001, 'algo': 'VeryFast'}}, resources=Resources(cores=96, processes=1, nodename='50h')), entry_key=38, name='create_vacancies.py', mq_id=7383345, state='q', err_txt=None, entry_group_key=31, pq_args=None, data=None)\n",
      "New resources: 96:1:epyc96:50h for pq key: 41\n",
      "Entry(task=Task(code=PosixPath('/home/energy/armoma/phd/hex_perovs/strained/codes/create_vacancies.py'), args={'vasp': {'symprec': 0.001, 'algo': 'VeryFast'}}, resources=Resources(cores=96, processes=1, nodename='50h')), entry_key=41, name='create_vacancies.py', mq_id=7383346, state='q', err_txt=None, entry_group_key=32, pq_args=None, data=None)\n",
      "New resources: 96:1:epyc96:50h for pq key: 43\n",
      "Entry(task=Task(code=PosixPath('/home/energy/armoma/phd/hex_perovs/strained/codes/apply_strain.py'), args={'system_id': 1627, 'in_plane': 2.0, 'vasp': {'symprec': 0.001, 'algo': 'VeryFast'}}, resources=Resources(cores=96, processes=1, nodename='50h')), entry_key=43, name='apply_strain.py', mq_id=7383347, state='q', err_txt=None, entry_group_key=33, pq_args=None, data=None)\n"
     ]
    }
   ],
   "source": [
    "from perqueue.queue import PersistentQueue\n",
    "from perqueue.selection import Selection\n",
    "from ase.db import connect\n",
    "from perqueue.task_classes.util_classes import Resources\n",
    "\n",
    "# Get the entries from the active pq database and modify their resources\n",
    "with PersistentQueue() as pq:\n",
    "    entries = pq.get_entries()\n",
    "    \n",
    "s = Selection(states='q')\n",
    "targets = s.filter(entries)\n",
    "\n",
    "new_res1 = Resources(cores=96, processes=1, nodename='epyc96', tmax=180000) #\"96:epyc96:1:50h\"\n",
    "new_res2 = \"192:epyc96:1:50h\"\n",
    "\n",
    "for en in targets:\n",
    "    pq_key = en.key\n",
    "    #print(en)\n",
    "    with PersistentQueue() as pq:\n",
    "        if pq.get_code(pq_key).name != 'neb.py':\n",
    "            print(f\"New resources: {new_res1} for pq key: {pq_key}\")\n",
    "            pq.save_resources(pq_key, Resources(new_res1), all=False)\n",
    "            print(en)\n",
    "        #else:\n",
    "        #    print(f\"New resources: {new_res2} for pq key: {pq_key}\")\n",
    "        #    pq.save_resources(pq_key, Resources(new_res2), all=True)\n",
    "        \n",
    "        #pq.resubmit(en)\n",
    "    \n",
    "    #break"
   ]
  },
  {
   "cell_type": "code",
   "execution_count": null,
   "metadata": {},
   "outputs": [],
   "source": []
  }
 ],
 "metadata": {
  "kernelspec": {
   "display_name": "fjorm_env",
   "language": "python",
   "name": "python3"
  },
  "language_info": {
   "codemirror_mode": {
    "name": "ipython",
    "version": 3
   },
   "file_extension": ".py",
   "mimetype": "text/x-python",
   "name": "python",
   "nbconvert_exporter": "python",
   "pygments_lexer": "ipython3",
   "version": "3.11.3"
  }
 },
 "nbformat": 4,
 "nbformat_minor": 2
}
